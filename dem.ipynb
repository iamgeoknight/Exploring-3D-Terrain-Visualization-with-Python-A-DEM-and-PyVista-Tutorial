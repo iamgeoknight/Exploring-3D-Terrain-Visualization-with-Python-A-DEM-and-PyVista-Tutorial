{
 "cells": [
  {
   "cell_type": "code",
   "execution_count": 1,
   "metadata": {},
   "outputs": [],
   "source": [
    "import pyvista as pv\n",
    "import rioxarray as riox\n",
    "import numpy as np"
   ]
  },
  {
   "cell_type": "code",
   "execution_count": 2,
   "metadata": {},
   "outputs": [],
   "source": [
    "# Reading in the data\n",
    "data = riox.open_rasterio(\"data/input/dem.tif\")\n",
    "\n",
    "data = data[0]\n",
    "\n",
    "# Saving the raster data as array\n",
    "values = np.asarray(data)\n",
    "\n",
    "# Creating meshgrid\n",
    "x, y = np.meshgrid(data['x'], data['y'])\n",
    "\n",
    "# Setting zz values\n",
    "z = np.zeros_like(x)\n",
    "\n",
    "# Creating Structured Grid\n",
    "mesh = pv.StructuredGrid(x, y, z)\n",
    "\n",
    "# Assign Elevation Values\n",
    "mesh[\"Elevation\"] = values.ravel(order='F')\n",
    "\n",
    "topo = mesh.warp_by_scalar(scalars=\"Elevation\", factor=0.000015)"
   ]
  },
  {
   "cell_type": "code",
   "execution_count": 3,
   "metadata": {},
   "outputs": [
    {
     "data": {
      "application/vnd.jupyter.widget-view+json": {
       "model_id": "6e7276735fa24f34994681184c8bf269",
       "version_major": 2,
       "version_minor": 0
      },
      "text/plain": [
       "Widget(value='<iframe src=\"http://localhost:41885/index.html?ui=P_0x7efc552c99a0_0&reconnect=auto\" class=\"pyvi…"
      ]
     },
     "metadata": {},
     "output_type": "display_data"
    }
   ],
   "source": [
    "p = pv.Plotter()\n",
    "\n",
    "p.add_mesh(mesh=topo, scalars=topo[\"Elevation\"], cmap='terrain')\n",
    "\n",
    "p.show_grid(color='black')\n",
    "p.set_background(color='white')\n",
    "p.show(cpos=\"xy\")"
   ]
  },
  {
   "cell_type": "code",
   "execution_count": null,
   "metadata": {},
   "outputs": [],
   "source": []
  }
 ],
 "metadata": {
  "kernelspec": {
   "display_name": "spatial-dev.guru",
   "language": "python",
   "name": "python3"
  },
  "language_info": {
   "codemirror_mode": {
    "name": "ipython",
    "version": 3
   },
   "file_extension": ".py",
   "mimetype": "text/x-python",
   "name": "python",
   "nbconvert_exporter": "python",
   "pygments_lexer": "ipython3",
   "version": "3.12.0"
  }
 },
 "nbformat": 4,
 "nbformat_minor": 2
}
